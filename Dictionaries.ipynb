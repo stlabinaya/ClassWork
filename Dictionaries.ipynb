{
 "cells": [
  {
   "cell_type": "code",
   "execution_count": 2,
   "metadata": {},
   "outputs": [],
   "source": [
    "x = {\"day\": \"between sunrise and sunset\", \n",
    "    \"food\": \"something to eat\",\n",
    "   \"night\": \"when the moon is out\"}"
   ]
  },
  {
   "cell_type": "code",
   "execution_count": 3,
   "metadata": {},
   "outputs": [
    {
     "name": "stdout",
     "output_type": "stream",
     "text": [
      "{'day': 'between sunrise and sunset', 'food': 'something to eat', 'night': 'when the moon is out'}\n"
     ]
    }
   ],
   "source": [
    "print(x)"
   ]
  },
  {
   "cell_type": "code",
   "execution_count": 4,
   "metadata": {},
   "outputs": [
    {
     "data": {
      "text/plain": [
       "dict"
      ]
     },
     "execution_count": 4,
     "metadata": {},
     "output_type": "execute_result"
    }
   ],
   "source": [
    "type(x)"
   ]
  },
  {
   "cell_type": "code",
   "execution_count": 6,
   "metadata": {},
   "outputs": [
    {
     "data": {
      "text/plain": [
       "'when the moon is out'"
      ]
     },
     "execution_count": 6,
     "metadata": {},
     "output_type": "execute_result"
    }
   ],
   "source": [
    "x[\"day\"]\n",
    "x[\"night\"]"
   ]
  },
  {
   "cell_type": "code",
   "execution_count": 7,
   "metadata": {},
   "outputs": [],
   "source": [
    "x[\"breakfast\"] = \"the first meal of the day\""
   ]
  },
  {
   "cell_type": "code",
   "execution_count": 8,
   "metadata": {},
   "outputs": [
    {
     "name": "stdout",
     "output_type": "stream",
     "text": [
      "{'day': 'between sunrise and sunset', 'food': 'something to eat', 'night': 'when the moon is out', 'breakfast': 'the first meal of the day'}\n"
     ]
    }
   ],
   "source": [
    "print(x)"
   ]
  },
  {
   "cell_type": "code",
   "execution_count": 9,
   "metadata": {},
   "outputs": [
    {
     "name": "stdout",
     "output_type": "stream",
     "text": [
      "None\n"
     ]
    }
   ],
   "source": [
    "print(x.get(\"lunch\"))"
   ]
  },
  {
   "cell_type": "code",
   "execution_count": 10,
   "metadata": {},
   "outputs": [
    {
     "data": {
      "text/plain": [
       "['day', 'food', 'night', 'breakfast']"
      ]
     },
     "execution_count": 10,
     "metadata": {},
     "output_type": "execute_result"
    }
   ],
   "source": [
    "list(x)"
   ]
  },
  {
   "cell_type": "code",
   "execution_count": 11,
   "metadata": {},
   "outputs": [
    {
     "data": {
      "text/plain": [
       "dict_keys(['day', 'food', 'night', 'breakfast'])"
      ]
     },
     "execution_count": 11,
     "metadata": {},
     "output_type": "execute_result"
    }
   ],
   "source": [
    "x.keys()"
   ]
  },
  {
   "cell_type": "code",
   "execution_count": 19,
   "metadata": {},
   "outputs": [],
   "source": [
    "bob = {\"First Name\": \"Robert\",\n",
    "       \"Last Name\": \"Smith\",\n",
    "       \"Age\": 35,\n",
    "       \"HIPPA On File\": True}"
   ]
  },
  {
   "cell_type": "code",
   "execution_count": 22,
   "metadata": {},
   "outputs": [],
   "source": [
    "def is_minor(person):\n",
    "    if person[\"Age\"] < 18:\n",
    "        return True\n",
    "    else:\n",
    "        return False"
   ]
  },
  {
   "cell_type": "code",
   "execution_count": 23,
   "metadata": {},
   "outputs": [
    {
     "name": "stdout",
     "output_type": "stream",
     "text": [
      "Patient can sign away\n"
     ]
    }
   ],
   "source": [
    "if is_minor(bob):\n",
    "    print(\"Get parent permission\")\n",
    "else:\n",
    "    print(\"Patient can sign away\")"
   ]
  },
  {
   "cell_type": "code",
   "execution_count": 14,
   "metadata": {},
   "outputs": [
    {
     "name": "stdout",
     "output_type": "stream",
     "text": [
      "40\n",
      "Robert has a HIPPA form\n"
     ]
    }
   ],
   "source": [
    "print(bob[\"Age\"] + 5)\n",
    "if bob[\"HIPPA On File\"]:\n",
    "    print(\"{} has a HIPPA form\".format(bob[\"First Name\"]))\n",
    "else:\n",
    "    print(\"need a HIPPA form\")"
   ]
  },
  {
   "cell_type": "code",
   "execution_count": 16,
   "metadata": {},
   "outputs": [
    {
     "name": "stdout",
     "output_type": "stream",
     "text": [
      "1/1/2020\n"
     ]
    }
   ],
   "source": [
    "bob[\"Visits\"] = [\"1/1/2020\", \"1/10/2020\", \"3/1/2020\"]\n",
    "print(bob[\"Visits\"][0])"
   ]
  },
  {
   "cell_type": "code",
   "execution_count": 17,
   "metadata": {},
   "outputs": [],
   "source": [
    "patients = dict()"
   ]
  },
  {
   "cell_type": "code",
   "execution_count": 20,
   "metadata": {},
   "outputs": [
    {
     "name": "stdout",
     "output_type": "stream",
     "text": [
      "{'Robert Smith': {'First Name': 'Robert', 'Last Name': 'Smith', 'Age': 35, 'HIPPA On File': True, 'Visits': ['1/1/2020', '1/10/2020', '3/1/2020']}}\n"
     ]
    }
   ],
   "source": [
    "patients[\"Robert Smith\"] = bob\n",
    "print(patients)"
   ]
  },
  {
   "cell_type": "code",
   "execution_count": 21,
   "metadata": {},
   "outputs": [
    {
     "data": {
      "text/plain": [
       "'1/1/2020'"
      ]
     },
     "execution_count": 21,
     "metadata": {},
     "output_type": "execute_result"
    }
   ],
   "source": [
    "patients[\"Robert Smith\"][\"Visits\"][0]"
   ]
  },
  {
   "cell_type": "code",
   "execution_count": 22,
   "metadata": {
    "scrolled": true
   },
   "outputs": [
    {
     "data": {
      "text/plain": [
       "{'First Name': 'Robert',\n",
       " 'Last Name': 'Smith',\n",
       " 'Age': 35,\n",
       " 'HIPPA On File': True,\n",
       " 'Visits': ['1/1/2020', '1/10/2020', '3/1/2020']}"
      ]
     },
     "execution_count": 22,
     "metadata": {},
     "output_type": "execute_result"
    }
   ],
   "source": [
    "bob "
   ]
  },
  {
   "cell_type": "code",
   "execution_count": 23,
   "metadata": {},
   "outputs": [],
   "source": [
    "import json"
   ]
  },
  {
   "cell_type": "code",
   "execution_count": 24,
   "metadata": {},
   "outputs": [],
   "source": [
    "class Person:\n",
    "    \n",
    "    def __init__(self, firstname, lastname, age):\n",
    "        self.firstname = firstname\n",
    "        self.lastname = lastname\n",
    "        self.age = age\n",
    "    \n",
    "    def is_minor(self):\n",
    "        if self.age < 18:\n",
    "            return True\n",
    "        else:\n",
    "            return False\n"
   ]
  },
  {
   "cell_type": "code",
   "execution_count": 25,
   "metadata": {},
   "outputs": [],
   "source": [
    "alice = Person(\"Alice\", \"Jones\", 45)"
   ]
  },
  {
   "cell_type": "code",
   "execution_count": 26,
   "metadata": {},
   "outputs": [],
   "source": [
    "charlie = Person(\"Charles\", \"Schwab\", 75)\n",
    "dolores = Person(\"Dolores\", \"Umbridge\", 120)"
   ]
  },
  {
   "cell_type": "code",
   "execution_count": 31,
   "metadata": {},
   "outputs": [],
   "source": [
    "charlie.is_minor()\n",
    "dolores.is_minor()\n",
    "patients = [alice, charlie, dolores]"
   ]
  },
  {
   "cell_type": "code",
   "execution_count": 32,
   "metadata": {},
   "outputs": [
    {
     "name": "stdout",
     "output_type": "stream",
     "text": [
      "Name: Alice Jones\n",
      "Age: 45\n",
      "Is this person a minor: False\n",
      "Name: Charles Schwab\n",
      "Age: 75\n",
      "Is this person a minor: False\n",
      "Name: Dolores Umbridge\n",
      "Age: 120\n",
      "Is this person a minor: False\n"
     ]
    }
   ],
   "source": [
    "for patient in patients:\n",
    "    print(\"Name: {} {}\".format(patient.firstname, patient.lastname))\n",
    "    print(\"Age: {}\".format(patient.age))\n",
    "    print(\"Is this person a minor: {}\".format(patient.is_minor()))"
   ]
  },
  {
   "cell_type": "code",
   "execution_count": 7,
   "metadata": {},
   "outputs": [
    {
     "name": "stdout",
     "output_type": "stream",
     "text": [
      "My name is Robert Smith\n"
     ]
    }
   ],
   "source": [
    "print(\"My name is {} {}\".format(bob.firstname,bob.lastname))"
   ]
  }
 ],
 "metadata": {
  "kernelspec": {
   "display_name": "Python 3",
   "language": "python",
   "name": "python3"
  },
  "language_info": {
   "codemirror_mode": {
    "name": "ipython",
    "version": 3
   },
   "file_extension": ".py",
   "mimetype": "text/x-python",
   "name": "python",
   "nbconvert_exporter": "python",
   "pygments_lexer": "ipython3",
   "version": "3.7.3"
  }
 },
 "nbformat": 4,
 "nbformat_minor": 2
}
